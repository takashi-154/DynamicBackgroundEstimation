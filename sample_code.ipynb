{
 "cells": [
  {
   "cell_type": "markdown",
   "metadata": {},
   "source": [
    "# sample code."
   ]
  },
  {
   "cell_type": "code",
   "execution_count": 13,
   "metadata": {},
   "outputs": [],
   "source": [
    "import dynamic_background_estimation as dbe\n",
    "%matplotlib qt"
   ]
  },
  {
   "cell_type": "code",
   "execution_count": 14,
   "metadata": {},
   "outputs": [],
   "source": [
    "estimate = dbe.DynamicBackgroundEstimation()"
   ]
  },
  {
   "cell_type": "markdown",
   "metadata": {},
   "source": [
    "画像ファイル読み込み"
   ]
  },
  {
   "cell_type": "code",
   "execution_count": 15,
   "metadata": {},
   "outputs": [
    {
     "name": "stdout",
     "output_type": "stream",
     "text": [
      "reading fits image...\n",
      "Fin reading image.\n"
     ]
    }
   ],
   "source": [
    "img_array = estimate.read_image(r'image.fts')"
   ]
  },
  {
   "cell_type": "markdown",
   "metadata": {},
   "source": [
    "指定ポイントファイル読み込み（ない場合は新しく作成）"
   ]
  },
  {
   "cell_type": "code",
   "execution_count": 16,
   "metadata": {},
   "outputs": [
    {
     "name": "stdout",
     "output_type": "stream",
     "text": [
      "reading old list...\n",
      "Fin reading list.\n"
     ]
    }
   ],
   "source": [
    "target = estimate.read_list(r'output.npy')"
   ]
  },
  {
   "cell_type": "markdown",
   "metadata": {},
   "source": [
    "バックグラウンドを推定するポイントを指定する（popup window）\n",
    "左クリックでポイント追加、右クリックでポイント削除\n",
    "左下ウインドウには指定したポイントの領域画像を表示\n",
    "右下ウインドウには領域画像の中央値を表示\n",
    "\n",
    "右クリックでポイントを指定し、対象領域を確認。\n",
    "左下ウインドウの背景値と右下ウインドウの背景値が近ければ背景値をとれていると判断。\n",
    "恒星が多く含まれてしまい背景値をとれていないようなら右クリックでポイント削除。"
   ]
  },
  {
   "cell_type": "code",
   "execution_count": 17,
   "metadata": {},
   "outputs": [],
   "source": [
    "point, img_comp, box_comp, box_window, box_median = estimate.prepare_plot_point(img_array, target, 20)\n",
    "pointlist = dbe.PointSetter(point, img_comp, box_comp, box_window, box_median)"
   ]
  },
  {
   "cell_type": "markdown",
   "metadata": {},
   "source": [
    "指定ポイントをnumpy配列に格納・更新"
   ]
  },
  {
   "cell_type": "code",
   "execution_count": 6,
   "metadata": {},
   "outputs": [],
   "source": [
    "target = estimate.postprocess_plot_point(pointlist)"
   ]
  },
  {
   "cell_type": "markdown",
   "metadata": {},
   "source": [
    "（Option）指定ポイントの画像を表示（popup window）"
   ]
  },
  {
   "cell_type": "code",
   "execution_count": 8,
   "metadata": {},
   "outputs": [],
   "source": [
    "estimate.check_point_window(img_array, target, 20)"
   ]
  },
  {
   "cell_type": "markdown",
   "metadata": {},
   "source": [
    "バックグラウンドモデルを推定"
   ]
  },
  {
   "cell_type": "code",
   "execution_count": 9,
   "metadata": {},
   "outputs": [],
   "source": [
    "model = estimate.estimate_background(img_array, target, 20)"
   ]
  },
  {
   "cell_type": "markdown",
   "metadata": {},
   "source": [
    "（Option）推定したモデルを表示（popup window）"
   ]
  },
  {
   "cell_type": "code",
   "execution_count": 10,
   "metadata": {},
   "outputs": [],
   "source": [
    "estimate.check_background(img_array, model)"
   ]
  },
  {
   "cell_type": "markdown",
   "metadata": {},
   "source": [
    "元画像から推定したバックグラウンドモデルを減算"
   ]
  },
  {
   "cell_type": "code",
   "execution_count": 11,
   "metadata": {},
   "outputs": [],
   "source": [
    "output = estimate.subtract_background(img_array, model)"
   ]
  },
  {
   "cell_type": "markdown",
   "metadata": {},
   "source": [
    "処理後画像、モデル画像、指定ポイントファイルを書き出し"
   ]
  },
  {
   "cell_type": "code",
   "execution_count": 12,
   "metadata": {},
   "outputs": [
    {
     "name": "stdout",
     "output_type": "stream",
     "text": [
      "saving target list...\n",
      "Fin reading list.\n",
      "saving fits image...\n",
      "Fin saving image.\n",
      "saving fits image...\n",
      "Fin saving image.\n"
     ]
    }
   ],
   "source": [
    "estimate.save_list('output', target)\n",
    "estimate.save_image('output.fts', output)\n",
    "estimate.save_image('output_model.fts', model)"
   ]
  },
  {
   "cell_type": "code",
   "execution_count": null,
   "metadata": {},
   "outputs": [],
   "source": []
  }
 ],
 "metadata": {
  "kernelspec": {
   "display_name": "DeepINC",
   "language": "python",
   "name": "deepinc"
  },
  "language_info": {
   "codemirror_mode": {
    "name": "ipython",
    "version": 3
   },
   "file_extension": ".py",
   "mimetype": "text/x-python",
   "name": "python",
   "nbconvert_exporter": "python",
   "pygments_lexer": "ipython3",
   "version": "3.6.12"
  }
 },
 "nbformat": 4,
 "nbformat_minor": 4
}
